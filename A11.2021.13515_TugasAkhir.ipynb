{
 "cells": [
  {
   "cell_type": "code",
   "execution_count": 3,
   "id": "bf142cf1",
   "metadata": {},
   "outputs": [],
   "source": [
    "import numpy as np #guna untuk menyediakan fungsi yang siap pakai untuk memudahkan kita melakukan perhitungan saintifik seperti matriks, aljabar, statistik, dan sebagainya\n",
    "import pandas as pd #guna untuk membaca nama file dari csv atau txt lainnya\n",
    "from sklearn import neighbors\n",
    "from sklearn.neighbors import KNeighborsClassifier#Untuk menggunakan KNN\n",
    "from sklearn.model_selection import train_test_split #digunakan untuk proses training dan testing merupakan kumpulan data yang berbeda.\n",
    "from sklearn.metrics import confusion_matrix #memberikan informasi perbandingan hasil klasifikasi yang dilakukan oleh sistem (model) dengan hasil klasifikasi sebenarnya.\n",
    "from sklearn.metrics import classification_report # Memberikan Report\n",
    "from sklearn.metrics import accuracy_score #memberikan skor akurasi\n",
    "from imblearn.over_sampling import SMOTE\n",
    "import matplotlib.pyplot as plt\n",
    "import seaborn as sns\n",
    "#\n",
    "import warnings\n",
    "from sklearn.exceptions import DataConversionWarning\n",
    "warnings.filterwarnings(\"ignore\", category=DataConversionWarning)\n",
    "warnings.filterwarnings(\"ignore\", category=UserWarning)"
   ]
  },
  {
   "cell_type": "code",
   "execution_count": 4,
   "id": "a9ff6bcc",
   "metadata": {},
   "outputs": [],
   "source": [
    "dataset = pd.read_csv('prediksicuaca.csv') #membaca dataset yang ada"
   ]
  },
  {
   "cell_type": "code",
   "execution_count": 5,
   "id": "e6fe8491",
   "metadata": {},
   "outputs": [
    {
     "data": {
      "text/html": [
       "<div>\n",
       "<style scoped>\n",
       "    .dataframe tbody tr th:only-of-type {\n",
       "        vertical-align: middle;\n",
       "    }\n",
       "\n",
       "    .dataframe tbody tr th {\n",
       "        vertical-align: top;\n",
       "    }\n",
       "\n",
       "    .dataframe thead th {\n",
       "        text-align: right;\n",
       "    }\n",
       "</style>\n",
       "<table border=\"1\" class=\"dataframe\">\n",
       "  <thead>\n",
       "    <tr style=\"text-align: right;\">\n",
       "      <th></th>\n",
       "      <th>date</th>\n",
       "      <th>precipitation</th>\n",
       "      <th>temp_max</th>\n",
       "      <th>temp_min</th>\n",
       "      <th>wind</th>\n",
       "      <th>weather</th>\n",
       "      <th>Prediction</th>\n",
       "    </tr>\n",
       "  </thead>\n",
       "  <tbody>\n",
       "    <tr>\n",
       "      <th>0</th>\n",
       "      <td>1/1/2012</td>\n",
       "      <td>0.0</td>\n",
       "      <td>12.8</td>\n",
       "      <td>5.0</td>\n",
       "      <td>4.7</td>\n",
       "      <td>drizzle</td>\n",
       "      <td>1</td>\n",
       "    </tr>\n",
       "    <tr>\n",
       "      <th>1</th>\n",
       "      <td>1/2/2012</td>\n",
       "      <td>10.9</td>\n",
       "      <td>10.6</td>\n",
       "      <td>2.8</td>\n",
       "      <td>4.5</td>\n",
       "      <td>rain</td>\n",
       "      <td>3</td>\n",
       "    </tr>\n",
       "    <tr>\n",
       "      <th>2</th>\n",
       "      <td>1/3/2012</td>\n",
       "      <td>0.8</td>\n",
       "      <td>11.7</td>\n",
       "      <td>7.2</td>\n",
       "      <td>2.3</td>\n",
       "      <td>rain</td>\n",
       "      <td>3</td>\n",
       "    </tr>\n",
       "    <tr>\n",
       "      <th>3</th>\n",
       "      <td>1/4/2012</td>\n",
       "      <td>20.3</td>\n",
       "      <td>12.2</td>\n",
       "      <td>5.6</td>\n",
       "      <td>4.7</td>\n",
       "      <td>rain</td>\n",
       "      <td>3</td>\n",
       "    </tr>\n",
       "    <tr>\n",
       "      <th>4</th>\n",
       "      <td>1/5/2012</td>\n",
       "      <td>1.3</td>\n",
       "      <td>8.9</td>\n",
       "      <td>2.8</td>\n",
       "      <td>6.1</td>\n",
       "      <td>rain</td>\n",
       "      <td>3</td>\n",
       "    </tr>\n",
       "    <tr>\n",
       "      <th>...</th>\n",
       "      <td>...</td>\n",
       "      <td>...</td>\n",
       "      <td>...</td>\n",
       "      <td>...</td>\n",
       "      <td>...</td>\n",
       "      <td>...</td>\n",
       "      <td>...</td>\n",
       "    </tr>\n",
       "    <tr>\n",
       "      <th>1456</th>\n",
       "      <td>12/27/2015</td>\n",
       "      <td>8.6</td>\n",
       "      <td>4.4</td>\n",
       "      <td>1.7</td>\n",
       "      <td>2.9</td>\n",
       "      <td>rain</td>\n",
       "      <td>3</td>\n",
       "    </tr>\n",
       "    <tr>\n",
       "      <th>1457</th>\n",
       "      <td>12/28/2015</td>\n",
       "      <td>1.5</td>\n",
       "      <td>5.0</td>\n",
       "      <td>1.7</td>\n",
       "      <td>1.3</td>\n",
       "      <td>rain</td>\n",
       "      <td>3</td>\n",
       "    </tr>\n",
       "    <tr>\n",
       "      <th>1458</th>\n",
       "      <td>12/29/2015</td>\n",
       "      <td>0.0</td>\n",
       "      <td>7.2</td>\n",
       "      <td>0.6</td>\n",
       "      <td>2.6</td>\n",
       "      <td>fog</td>\n",
       "      <td>5</td>\n",
       "    </tr>\n",
       "    <tr>\n",
       "      <th>1459</th>\n",
       "      <td>12/30/2015</td>\n",
       "      <td>0.0</td>\n",
       "      <td>5.6</td>\n",
       "      <td>-1.0</td>\n",
       "      <td>3.4</td>\n",
       "      <td>sun</td>\n",
       "      <td>4</td>\n",
       "    </tr>\n",
       "    <tr>\n",
       "      <th>1460</th>\n",
       "      <td>12/31/2015</td>\n",
       "      <td>0.0</td>\n",
       "      <td>5.6</td>\n",
       "      <td>-2.1</td>\n",
       "      <td>3.5</td>\n",
       "      <td>sun</td>\n",
       "      <td>4</td>\n",
       "    </tr>\n",
       "  </tbody>\n",
       "</table>\n",
       "<p>1461 rows × 7 columns</p>\n",
       "</div>"
      ],
      "text/plain": [
       "            date  precipitation  temp_max  temp_min  wind  weather  Prediction\n",
       "0       1/1/2012            0.0      12.8       5.0   4.7  drizzle           1\n",
       "1       1/2/2012           10.9      10.6       2.8   4.5     rain           3\n",
       "2       1/3/2012            0.8      11.7       7.2   2.3     rain           3\n",
       "3       1/4/2012           20.3      12.2       5.6   4.7     rain           3\n",
       "4       1/5/2012            1.3       8.9       2.8   6.1     rain           3\n",
       "...          ...            ...       ...       ...   ...      ...         ...\n",
       "1456  12/27/2015            8.6       4.4       1.7   2.9     rain           3\n",
       "1457  12/28/2015            1.5       5.0       1.7   1.3     rain           3\n",
       "1458  12/29/2015            0.0       7.2       0.6   2.6      fog           5\n",
       "1459  12/30/2015            0.0       5.6      -1.0   3.4      sun           4\n",
       "1460  12/31/2015            0.0       5.6      -2.1   3.5      sun           4\n",
       "\n",
       "[1461 rows x 7 columns]"
      ]
     },
     "execution_count": 5,
     "metadata": {},
     "output_type": "execute_result"
    }
   ],
   "source": [
    "dataset #menampilkan seluruh isi dataset"
   ]
  },
  {
   "cell_type": "code",
   "execution_count": 6,
   "id": "29ca980b",
   "metadata": {
    "scrolled": false
   },
   "outputs": [
    {
     "data": {
      "image/png": "[encoded data removed]",
      "text/plain": [
       "<Figure size 1200x600 with 1 Axes>"
      ]
     },
     "metadata": {},
     "output_type": "display_data"
    }
   ],
   "source": [
    "# Ambil kolom 'Date' dan 'Weather' dari dataset\n",
    "dates = dataset.loc[0:20, 'date']\n",
    "weather = dataset.loc[0:20, 'Prediction']\n",
    "\n",
    "# Membuat plot\n",
    "plt.figure(figsize=(12, 6))\n",
    "\n",
    "# Menentukan warna untuk setiap nilai cuaca\n",
    "colors = {1: 'red', 2: 'purple', 3: 'blue', 4: 'green', 5: 'orange'}\n",
    "\n",
    "# Menggambar batang bar dengan warna yang sesuai\n",
    "for i in range(len(dates)):\n",
    "    plt.bar(dates[i], weather[i], color=colors[weather[i]])\n",
    "\n",
    "# Menambahkan label dan judul\n",
    "plt.xlabel('Tanggal')\n",
    "plt.ylabel('Cuaca')\n",
    "plt.title('Grafik Cuaca')\n",
    "\n",
    "# Menampilkan grid\n",
    "plt.grid(True)\n",
    "\n",
    "# Memutar label tanggal agar tidak tumpang tindih\n",
    "plt.xticks(rotation=45)\n",
    "\n",
    "# Membuat legenda\n",
    "labels = ['Drizzle', 'Snow', 'Rain', 'Sun', 'Fog']\n",
    "legend_elements = [plt.Rectangle((0, 0), 1, 1, color=colors[i+1]) for i in range(len(colors))]\n",
    "plt.legend(legend_elements, labels, loc='upper right')\n",
    "\n",
    "# Menampilkan plot\n",
    "plt.show()\n"
   ]
  },
  {
   "cell_type": "code",
   "execution_count": 7,
   "id": "89084242",
   "metadata": {},
   "outputs": [
    {
     "name": "stdout",
     "output_type": "stream",
     "text": [
      "(1461, 7)\n"
     ]
    },
    {
     "data": {
      "text/html": [
       "<div>\n",
       "<style scoped>\n",
       "    .dataframe tbody tr th:only-of-type {\n",
       "        vertical-align: middle;\n",
       "    }\n",
       "\n",
       "    .dataframe tbody tr th {\n",
       "        vertical-align: top;\n",
       "    }\n",
       "\n",
       "    .dataframe thead th {\n",
       "        text-align: right;\n",
       "    }\n",
       "</style>\n",
       "<table border=\"1\" class=\"dataframe\">\n",
       "  <thead>\n",
       "    <tr style=\"text-align: right;\">\n",
       "      <th></th>\n",
       "      <th>date</th>\n",
       "      <th>precipitation</th>\n",
       "      <th>temp_max</th>\n",
       "      <th>temp_min</th>\n",
       "      <th>wind</th>\n",
       "      <th>weather</th>\n",
       "      <th>Prediction</th>\n",
       "    </tr>\n",
       "  </thead>\n",
       "  <tbody>\n",
       "    <tr>\n",
       "      <th>0</th>\n",
       "      <td>1/1/2012</td>\n",
       "      <td>0.0</td>\n",
       "      <td>12.8</td>\n",
       "      <td>5.0</td>\n",
       "      <td>4.7</td>\n",
       "      <td>drizzle</td>\n",
       "      <td>1</td>\n",
       "    </tr>\n",
       "    <tr>\n",
       "      <th>1</th>\n",
       "      <td>1/2/2012</td>\n",
       "      <td>10.9</td>\n",
       "      <td>10.6</td>\n",
       "      <td>2.8</td>\n",
       "      <td>4.5</td>\n",
       "      <td>rain</td>\n",
       "      <td>3</td>\n",
       "    </tr>\n",
       "    <tr>\n",
       "      <th>2</th>\n",
       "      <td>1/3/2012</td>\n",
       "      <td>0.8</td>\n",
       "      <td>11.7</td>\n",
       "      <td>7.2</td>\n",
       "      <td>2.3</td>\n",
       "      <td>rain</td>\n",
       "      <td>3</td>\n",
       "    </tr>\n",
       "    <tr>\n",
       "      <th>3</th>\n",
       "      <td>1/4/2012</td>\n",
       "      <td>20.3</td>\n",
       "      <td>12.2</td>\n",
       "      <td>5.6</td>\n",
       "      <td>4.7</td>\n",
       "      <td>rain</td>\n",
       "      <td>3</td>\n",
       "    </tr>\n",
       "    <tr>\n",
       "      <th>4</th>\n",
       "      <td>1/5/2012</td>\n",
       "      <td>1.3</td>\n",
       "      <td>8.9</td>\n",
       "      <td>2.8</td>\n",
       "      <td>6.1</td>\n",
       "      <td>rain</td>\n",
       "      <td>3</td>\n",
       "    </tr>\n",
       "    <tr>\n",
       "      <th>5</th>\n",
       "      <td>1/6/2012</td>\n",
       "      <td>2.5</td>\n",
       "      <td>4.4</td>\n",
       "      <td>2.2</td>\n",
       "      <td>2.2</td>\n",
       "      <td>rain</td>\n",
       "      <td>3</td>\n",
       "    </tr>\n",
       "    <tr>\n",
       "      <th>6</th>\n",
       "      <td>1/7/2012</td>\n",
       "      <td>0.0</td>\n",
       "      <td>7.2</td>\n",
       "      <td>2.8</td>\n",
       "      <td>2.3</td>\n",
       "      <td>rain</td>\n",
       "      <td>3</td>\n",
       "    </tr>\n",
       "    <tr>\n",
       "      <th>7</th>\n",
       "      <td>1/8/2012</td>\n",
       "      <td>0.0</td>\n",
       "      <td>10.0</td>\n",
       "      <td>2.8</td>\n",
       "      <td>2.0</td>\n",
       "      <td>sun</td>\n",
       "      <td>4</td>\n",
       "    </tr>\n",
       "    <tr>\n",
       "      <th>8</th>\n",
       "      <td>1/9/2012</td>\n",
       "      <td>4.3</td>\n",
       "      <td>9.4</td>\n",
       "      <td>5.0</td>\n",
       "      <td>3.4</td>\n",
       "      <td>rain</td>\n",
       "      <td>3</td>\n",
       "    </tr>\n",
       "    <tr>\n",
       "      <th>9</th>\n",
       "      <td>1/10/2012</td>\n",
       "      <td>1.0</td>\n",
       "      <td>6.1</td>\n",
       "      <td>0.6</td>\n",
       "      <td>3.4</td>\n",
       "      <td>rain</td>\n",
       "      <td>3</td>\n",
       "    </tr>\n",
       "  </tbody>\n",
       "</table>\n",
       "</div>"
      ],
      "text/plain": [
       "        date  precipitation  temp_max  temp_min  wind  weather  Prediction\n",
       "0   1/1/2012            0.0      12.8       5.0   4.7  drizzle           1\n",
       "1   1/2/2012           10.9      10.6       2.8   4.5     rain           3\n",
       "2   1/3/2012            0.8      11.7       7.2   2.3     rain           3\n",
       "3   1/4/2012           20.3      12.2       5.6   4.7     rain           3\n",
       "4   1/5/2012            1.3       8.9       2.8   6.1     rain           3\n",
       "5   1/6/2012            2.5       4.4       2.2   2.2     rain           3\n",
       "6   1/7/2012            0.0       7.2       2.8   2.3     rain           3\n",
       "7   1/8/2012            0.0      10.0       2.8   2.0      sun           4\n",
       "8   1/9/2012            4.3       9.4       5.0   3.4     rain           3\n",
       "9  1/10/2012            1.0       6.1       0.6   3.4     rain           3"
      ]
     },
     "execution_count": 7,
     "metadata": {},
     "output_type": "execute_result"
    }
   ],
   "source": [
    "print(dataset.shape) #menampilkan ada berapa baris dan kolom ( ada 1461 baris, dan 7kolom)\n",
    "dataset.head(10) #menampilkan 10 data pertama dimulai dari 0"
   ]
  },
  {
   "cell_type": "code",
   "execution_count": 8,
   "id": "191f162e",
   "metadata": {},
   "outputs": [
    {
     "data": {
      "text/plain": [
       "{1: 'drizzle', 3: 'rain', 4: 'sun', 2: 'snow', 5: 'fog'}"
      ]
     },
     "execution_count": 8,
     "metadata": {},
     "output_type": "execute_result"
    }
   ],
   "source": [
    "nama_cuaca = dict(zip(dataset.Prediction.unique(), dataset.weather.unique())) #mengembalikan nilai sesuai dengan argumen yang diberikan\n",
    "nama_cuaca"
   ]
  },
  {
   "cell_type": "code",
   "execution_count": 9,
   "id": "d6930cf5",
   "metadata": {},
   "outputs": [
    {
     "data": {
      "text/plain": [
       "(53, 7)"
      ]
     },
     "execution_count": 9,
     "metadata": {},
     "output_type": "execute_result"
    }
   ],
   "source": [
    "dataset[dataset[\"Prediction\"]==1].shape #disini hanya terdapat 53 data yang menunjukan keadaan Drizzle"
   ]
  },
  {
   "cell_type": "code",
   "execution_count": 10,
   "id": "5267a96c",
   "metadata": {},
   "outputs": [
    {
     "data": {
      "text/plain": [
       "(26, 7)"
      ]
     },
     "execution_count": 10,
     "metadata": {},
     "output_type": "execute_result"
    }
   ],
   "source": [
    "dataset[dataset[\"Prediction\"]==2].shape #disini hanya terdapat 26 data yang menunjukan keadaan Snow"
   ]
  },
  {
   "cell_type": "code",
   "execution_count": 11,
   "id": "337d59e5",
   "metadata": {},
   "outputs": [
    {
     "data": {
      "text/plain": [
       "(641, 7)"
      ]
     },
     "execution_count": 11,
     "metadata": {},
     "output_type": "execute_result"
    }
   ],
   "source": [
    "dataset[dataset[\"Prediction\"]==3].shape #disini terdapat 641 data yang menunjukan keadaan Rain"
   ]
  },
  {
   "cell_type": "code",
   "execution_count": 12,
   "id": "4a40c72f",
   "metadata": {},
   "outputs": [
    {
     "data": {
      "text/plain": [
       "(640, 7)"
      ]
     },
     "execution_count": 12,
     "metadata": {},
     "output_type": "execute_result"
    }
   ],
   "source": [
    "dataset[dataset[\"Prediction\"]==4].shape #disini terdapat 640 data yang menunjukan keadaan Sun"
   ]
  },
  {
   "cell_type": "code",
   "execution_count": 16,
   "id": "1b3002cf",
   "metadata": {},
   "outputs": [
    {
     "data": {
      "text/plain": [
       "(101, 7)"
      ]
     },
     "execution_count": 16,
     "metadata": {},
     "output_type": "execute_result"
    }
   ],
   "source": [
    "dataset[dataset[\"Prediction\"]==5].shape #disini hanya terdapat 101 data yang menunjukan keadaan Fog"
   ]
  },
  {
   "cell_type": "code",
   "execution_count": 13,
   "id": "0a24d42f",
   "metadata": {},
   "outputs": [
    {
     "data": {
      "image/png": "[encoded data removed]",
      "text/plain": [
       "<Figure size 640x480 with 1 Axes>"
      ]
     },
     "metadata": {},
     "output_type": "display_data"
    }
   ],
   "source": [
    "# Menghitung jumlah kemunculan setiap nilai dalam kolom \"weather\"\n",
    "weather_counts = dataset[\"weather\"].value_counts()\n",
    "\n",
    "# Plot histogram\n",
    "plt.bar(weather_counts.index, weather_counts.values)\n",
    "plt.xlabel('Weather')\n",
    "plt.ylabel('Count')\n",
    "plt.title('Cuaca yang terjadi')\n",
    "plt.show()"
   ]
  },
  {
   "cell_type": "code",
   "execution_count": 14,
   "id": "29ed54b3",
   "metadata": {},
   "outputs": [
    {
     "name": "stdout",
     "output_type": "stream",
     "text": [
      "              precision    recall  f1-score   support\n",
      "\n",
      "           1       0.06      0.30      0.09        10\n",
      "           2       0.43      1.00      0.60         6\n",
      "           3       0.95      0.71      0.81       123\n",
      "           4       0.65      0.42      0.51       125\n",
      "           5       0.17      0.31      0.22        29\n",
      "\n",
      "    accuracy                           0.54       293\n",
      "   macro avg       0.45      0.55      0.45       293\n",
      "weighted avg       0.70      0.54      0.59       293\n",
      "\n"
     ]
    }
   ],
   "source": [
    "# Menentukan variabel bebas (X) dan variabel terikat (y)\n",
    "x = dataset[['precipitation', 'temp_max', 'temp_min', 'wind']]\n",
    "y = dataset['Prediction']\n",
    "\n",
    "# Memisahkan data latih dan data uji\n",
    "x_train, x_test, y_train, y_test = train_test_split(x, y, test_size=0.2, random_state=0)\n",
    "\n",
    "# Mengaplikasikan SMOTE oversampling pada data latih\n",
    "smote = SMOTE()\n",
    "x_train_resampled, y_train_resampled = smote.fit_resample(x_train, y_train)\n",
    "\n",
    "# Melatih model k-NN pada data latih yang telah diresampling\n",
    "knn = KNeighborsClassifier()\n",
    "knn.fit(x_train_resampled, y_train_resampled)\n",
    "\n",
    "# Melakukan prediksi pada data uji\n",
    "y_pred = knn.predict(x_test)\n",
    "\n",
    "# Melihat classification report\n",
    "report = classification_report(y_test, y_pred)\n",
    "print(report)"
   ]
  },
  {
   "cell_type": "code",
   "execution_count": null,
   "id": "8859b2e1",
   "metadata": {},
   "outputs": [],
   "source": []
  }
 ],
 "metadata": {
  "kernelspec": {
   "display_name": "Python 3 (ipykernel)",
   "language": "python",
   "name": "python3"
  },
  "language_info": {
   "codemirror_mode": {
    "name": "ipython",
    "version": 3
   },
   "file_extension": ".py",
   "mimetype": "text/x-python",
   "name": "python",
   "nbconvert_exporter": "python",
   "pygments_lexer": "ipython3",
   "version": "3.10.9"
  }
 },
 "nbformat": 4,
 "nbformat_minor": 5
}
